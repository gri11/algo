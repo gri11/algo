{
 "cells": [
  {
   "attachments": {},
   "cell_type": "markdown",
   "metadata": {},
   "source": [
    "# Input"
   ]
  },
  {
   "cell_type": "code",
   "execution_count": null,
   "metadata": {},
   "outputs": [],
   "source": [
    "import sys\n",
    "\n",
    "input = sys.stdin.readline\n",
    "\n",
    "def ip():\n",
    "  return list(map(int, sys.stdin.readline().strip().split()))"
   ]
  },
  {
   "attachments": {},
   "cell_type": "markdown",
   "metadata": {},
   "source": [
    "# Graph Representation"
   ]
  },
  {
   "cell_type": "code",
   "execution_count": null,
   "metadata": {},
   "outputs": [],
   "source": [
    "n, m = ip()"
   ]
  },
  {
   "attachments": {},
   "cell_type": "markdown",
   "metadata": {},
   "source": [
    "## Adjacency List"
   ]
  },
  {
   "cell_type": "code",
   "execution_count": null,
   "metadata": {},
   "outputs": [],
   "source": [
    "# List of lists\n",
    "G = [[] for _ in range(n)]\n",
    "for i in range(m):\n",
    "  a, b, w = ip()\n",
    "  G[a].append((b, w))"
   ]
  },
  {
   "cell_type": "code",
   "execution_count": null,
   "metadata": {},
   "outputs": [],
   "source": [
    "# List of dicts\n",
    "G = [{} for _ in range(n)]\n",
    "for i in range(m):\n",
    "  a, b, w = ip()\n",
    "  G[a][b] = w"
   ]
  },
  {
   "attachments": {},
   "cell_type": "markdown",
   "metadata": {},
   "source": [
    "## Adjacency Matrix"
   ]
  },
  {
   "cell_type": "code",
   "execution_count": null,
   "metadata": {},
   "outputs": [],
   "source": []
  },
  {
   "attachments": {},
   "cell_type": "markdown",
   "metadata": {},
   "source": [
    "# Search Algorithms"
   ]
  },
  {
   "cell_type": "code",
   "execution_count": null,
   "metadata": {},
   "outputs": [],
   "source": [
    "def bfs(v):\n",
    "  dist = [float('inf')] * n\n",
    "  # color = ['white'] * n\n",
    "  dist[v] = 0\n",
    "  # color[v] = 'gray'\n",
    "  q = [v]\n",
    "  while q:\n",
    "    u = q.pop(0)\n",
    "    for v in G[u]:\n",
    "      if dist[v] == float('inf'):\n",
    "        dist[v] = dist[u] + 1\n",
    "        q.append(v)\n",
    "  return dist"
   ]
  },
  {
   "cell_type": "code",
   "execution_count": 54,
   "metadata": {},
   "outputs": [],
   "source": [
    "def dfs(G, v):\n",
    "  dist = [float('inf')] * n\n",
    "  color = ['white'] * n\n",
    "  p = [None] * n\n",
    "  dist[v] = 0\n",
    "  # color[v] = 'gray'\n",
    "  def dfs(v):\n",
    "    # print(v, end=' ')\n",
    "    print(color)\n",
    "    color[v] = 'gray'\n",
    "    for u in G[v]:\n",
    "      if color[u] == 'white':\n",
    "        p[u] = v\n",
    "        # print(f'dfs({u})')\n",
    "        dfs(u)\n",
    "    color[v] = 'black'\n",
    "  \n",
    "  for v in range(n):\n",
    "    if color[v] == 'white':\n",
    "      print(f'dfs({v})')\n",
    "      dfs(v)\n",
    "      \n",
    "  # dfs(v)\n",
    "  print(color)\n",
    "  return dist, p"
   ]
  },
  {
   "cell_type": "code",
   "execution_count": 55,
   "metadata": {},
   "outputs": [
    {
     "name": "stdout",
     "output_type": "stream",
     "text": [
      "dfs(0)\n",
      "['white', 'white', 'white', 'white', 'white']\n",
      "['gray', 'white', 'white', 'white', 'white']\n",
      "['gray', 'gray', 'white', 'white', 'white']\n",
      "['gray', 'gray', 'gray', 'white', 'white']\n",
      "['gray', 'black', 'black', 'black', 'white']\n",
      "['black', 'black', 'black', 'black', 'black']\n"
     ]
    },
    {
     "data": {
      "text/plain": [
       "([0, inf, inf, inf, inf], [None, 0, 1, 2, 0])"
      ]
     },
     "execution_count": 55,
     "metadata": {},
     "output_type": "execute_result"
    }
   ],
   "source": [
    "G = [[1, 4], [2], [3], [], []]\n",
    "n = 5\n",
    "dfs(G, 0)"
   ]
  },
  {
   "attachments": {},
   "cell_type": "markdown",
   "metadata": {},
   "source": [
    "# Topological Sort"
   ]
  },
  {
   "cell_type": "code",
   "execution_count": 65,
   "metadata": {},
   "outputs": [],
   "source": [
    "def tsort(G, v):\n",
    "  color = ['white'] * n\n",
    "  visited = [False] * n\n",
    "  s = []\n",
    "  def tsort(v):\n",
    "    color[v] = 'gray'\n",
    "    for u in G[v]:\n",
    "      if color[u] == 'white':\n",
    "        tsort(u)\n",
    "    color[v] = 'black'\n",
    "    s.append(v)\n",
    "  \n",
    "  for v in range(n):\n",
    "    if color[v] == 'white':\n",
    "      tsort(v)\n",
    "      \n",
    "  # print(color)\n",
    "  return s"
   ]
  },
  {
   "cell_type": "code",
   "execution_count": 66,
   "metadata": {},
   "outputs": [
    {
     "data": {
      "text/plain": [
       "[3, 2, 1, 4, 0]"
      ]
     },
     "execution_count": 66,
     "metadata": {},
     "output_type": "execute_result"
    }
   ],
   "source": [
    "tsort(G, 0)\n"
   ]
  },
  {
   "cell_type": "code",
   "execution_count": 69,
   "metadata": {},
   "outputs": [
    {
     "name": "stdout",
     "output_type": "stream",
     "text": [
      "0 4 1 2 3 "
     ]
    }
   ],
   "source": [
    "s = tsort(G, 0)\n",
    "while s:\n",
    "  v = s.pop()\n",
    "  print(v, end=' ')"
   ]
  },
  {
   "attachments": {},
   "cell_type": "markdown",
   "metadata": {},
   "source": [
    "# Strongly Connected Components"
   ]
  },
  {
   "cell_type": "code",
   "execution_count": 133,
   "metadata": {},
   "outputs": [],
   "source": [
    "def reverse(G):\n",
    "  Gr = [[] for _ in range(n)]\n",
    "  for a, v in enumerate(G):\n",
    "    for b in v:\n",
    "      Gr[b].append(a)\n",
    "  return Gr\n",
    "\n",
    "def scc(G, v):\n",
    "  visited = [False] * n\n",
    "  fv = [0] * n\n",
    "  f = 0\n",
    "  Gr = reverse(G)\n",
    "  def dfs(v):\n",
    "    nonlocal f\n",
    "    for u in Gr[v]:\n",
    "      if not visited[u]:\n",
    "        dfs(u)\n",
    "    visited[v] = True\n",
    "    fv[v] = f\n",
    "    f += 1\n",
    "  \n",
    "  for v in range(n):\n",
    "    if not visited[v]:\n",
    "      dfs(v)\n",
    "  \n",
    "  print(fv)\n",
    "  print(sorted(list(zip(fv, range(n))), reverse=True))\n",
    "  compontents = 0\n",
    "  visited = [False] * n\n",
    "  fv = [0] * n\n",
    "  f = 0\n",
    "  for f, v in sorted(list(zip(fv, range(n))), reverse=True):\n",
    "    if not visited[v]:\n",
    "      compontents += 1\n",
    "      dfs(v)\n",
    "\n",
    "  return compontents, fv"
   ]
  },
  {
   "cell_type": "code",
   "execution_count": 134,
   "metadata": {},
   "outputs": [
    {
     "name": "stdout",
     "output_type": "stream",
     "text": [
      "[[1, 4], [2], [3], [], []] [[], [0], [1], [2], [0]]\n",
      "[0, 1, 2, 3, 4]\n",
      "[(4, 4), (3, 3), (2, 2), (1, 1), (0, 0)]\n",
      "(2, [4, 3, 4, 5, 5])\n"
     ]
    }
   ],
   "source": [
    "print(G, reverse(G))\n",
    "f = 0\n",
    "print(scc(G, 0))"
   ]
  },
  {
   "cell_type": "code",
   "execution_count": 135,
   "metadata": {},
   "outputs": [],
   "source": [
    "# psuedocode\n",
    "# fv = dfs(reverse(G), 0)\n",
    "# for f, v in sorted(list(zip(fv, range(n))), reverse=True):\n",
    "#   dfs(G, v)\n",
    "#   compontents += 1"
   ]
  },
  {
   "attachments": {},
   "cell_type": "markdown",
   "metadata": {},
   "source": [
    "# Minimum Spanning Tree"
   ]
  },
  {
   "cell_type": "code",
   "execution_count": 140,
   "metadata": {},
   "outputs": [],
   "source": [
    "import heapq\n",
    "\n",
    "def prim(v):\n",
    "  dist = [float('inf')] * n\n",
    "  p = [None] * n\n",
    "  in_tree = [False] * n\n",
    "  dist[v] = 0\n",
    "  pq = [(0, v)]\n",
    "  while pq:\n",
    "    d, u = heapq.heappop(pq)\n",
    "    for v, w in G[u]:\n",
    "      if not in_tree[v] and w < dist[v] :\n",
    "        dist[v] = w\n",
    "        p[v] = u\n",
    "        heapq.heappush(pq, (dist[v], v))\n",
    "  return dist, p"
   ]
  },
  {
   "cell_type": "code",
   "execution_count": 146,
   "metadata": {},
   "outputs": [],
   "source": [
    "n, m = 5, 4 \n",
    "\n",
    "G = [[(1, 1)], [(2, 1)], [(4, 1)], [(4, 2)], [(3, 1)]]"
   ]
  },
  {
   "cell_type": "code",
   "execution_count": 147,
   "metadata": {},
   "outputs": [
    {
     "data": {
      "text/plain": [
       "([0, 1, 1, 1, 1], [None, 0, 1, 4, 2])"
      ]
     },
     "execution_count": 147,
     "metadata": {},
     "output_type": "execute_result"
    }
   ],
   "source": [
    "prim(0)"
   ]
  },
  {
   "cell_type": "code",
   "execution_count": 148,
   "metadata": {},
   "outputs": [],
   "source": [
    "def kruskal():\n",
    "  edges = []\n",
    "  for u, v in enumerate(G):\n",
    "    for w, cost in v:\n",
    "      edges.append((cost, u, w))\n",
    "  edges.sort()\n",
    "  p = [i for i in range(n)]\n",
    "  def find(u):\n",
    "    if u != p[u]:\n",
    "      p[u] = find(p[u])\n",
    "    return p[u]\n",
    "  def union(u, v):\n",
    "    pu, pv = find(u), find(v)\n",
    "    if pu != pv:\n",
    "      p[pu] = pv\n",
    "  mst = []\n",
    "  for cost, u, w in edges:\n",
    "    if find(u) != find(w):\n",
    "      union(u, w)\n",
    "      mst.append((u, w))\n",
    "  return mst"
   ]
  },
  {
   "cell_type": "code",
   "execution_count": 150,
   "metadata": {},
   "outputs": [],
   "source": [
    "def kruskal():\n",
    "    edges = []\n",
    "    for u, v in enumerate(G):\n",
    "        for w, cost in v:\n",
    "            edges.append((cost, u, w))\n",
    "    edges.sort()\n",
    "    \n",
    "    p = [i for i in range(n)]\n",
    "    size = [1] * n  # track the size of each tree\n",
    "    \n",
    "    def find(u):\n",
    "        if u != p[u]:\n",
    "            p[u] = find(p[u])\n",
    "        return p[u]\n",
    "    \n",
    "    def union(u, v):\n",
    "        pu, pv = find(u), find(v)\n",
    "        if pu == pv:\n",
    "            return False  # already in the same set\n",
    "        if size[pu] > size[pv]:\n",
    "            p[pv] = pu\n",
    "            size[pu] += size[pv]\n",
    "        else:\n",
    "            p[pu] = pv\n",
    "            size[pv] += size[pu]\n",
    "        return True\n",
    "    \n",
    "    mst = []\n",
    "    for cost, u, w in edges:\n",
    "        if union(u, w):\n",
    "            mst.append((u, w))\n",
    "    \n",
    "    return mst\n"
   ]
  },
  {
   "cell_type": "code",
   "execution_count": 151,
   "metadata": {},
   "outputs": [
    {
     "data": {
      "text/plain": [
       "[(0, 1), (1, 2), (2, 4), (4, 3)]"
      ]
     },
     "execution_count": 151,
     "metadata": {},
     "output_type": "execute_result"
    }
   ],
   "source": [
    "kruskal()"
   ]
  },
  {
   "attachments": {},
   "cell_type": "markdown",
   "metadata": {},
   "source": [
    "# Single Source Shortest Path"
   ]
  },
  {
   "cell_type": "code",
   "execution_count": null,
   "metadata": {},
   "outputs": [],
   "source": [
    "def dijkstra(v):\n",
    "  dist = [float('inf')] * n\n",
    "  p = [None] * n\n",
    "  dist[v] = 0\n",
    "  pq = [(0, v)]\n",
    "  while pq:\n",
    "    d, u = heapq.heappop(pq)\n",
    "    for v, w in G[u]:\n",
    "      if(dist[u] + w < dist[v]):\n",
    "        dist[v] = dist[u] + w\n",
    "        p[v] = u\n",
    "        heapq.heappush(pq, (dist[v], v))\n",
    "  return dist, p"
   ]
  },
  {
   "cell_type": "code",
   "execution_count": null,
   "metadata": {},
   "outputs": [],
   "source": [
    "def bellman_ford(v):\n",
    "  dist = [float('inf')] * n\n",
    "  p = [None] * n\n",
    "  dist[v] = 0\n",
    "  for i in range(n):\n",
    "    for u in range(n):\n",
    "      for v, w in G[u]:\n",
    "        if dist[u] + w < dist[v]:\n",
    "          dist[v] = dist[u] + w\n",
    "          p[v] = u\n",
    "  return dist, p"
   ]
  },
  {
   "cell_type": "code",
   "execution_count": null,
   "metadata": {},
   "outputs": [],
   "source": [
    "def bellman_ford(s):\n",
    "    dist = [float('inf')] * n\n",
    "    dist[s] = 0\n",
    "\n",
    "    for i in range(n - 1):\n",
    "        for u in range(n):\n",
    "            for v, w in G[u]:\n",
    "                if dist[u] + w < dist[v]:\n",
    "                    dist[v] = dist[u] + w\n",
    "\n",
    "    # Check for negative cycles\n",
    "    for u in range(n):\n",
    "        for v, w in G[u]:\n",
    "            if dist[u] + w < dist[v]:\n",
    "                return None  # Negative cycle found\n",
    "\n",
    "    return dist\n"
   ]
  },
  {
   "attachments": {},
   "cell_type": "markdown",
   "metadata": {},
   "source": [
    "# All Pairs Shortest Path"
   ]
  },
  {
   "cell_type": "code",
   "execution_count": 115,
   "metadata": {},
   "outputs": [],
   "source": [
    "def floyd_warshall():\n",
    "  dist = [[float('inf')] * n for _ in range(n)]\n",
    "  for i in range(n):\n",
    "    dist[i][i] = 0\n",
    "  for u in range(n):\n",
    "    for v, w in G[u]:\n",
    "      dist[u][v] = w\n",
    "  for k in range(n):\n",
    "    for i in range(n):\n",
    "      for j in range(n):\n",
    "        dist[i][j] = min(dist[i][j], dist[i][k] + dist[k][j])\n",
    "  return dist"
   ]
  },
  {
   "cell_type": "code",
   "execution_count": null,
   "metadata": {},
   "outputs": [],
   "source": [
    "def johnson():\n",
    "  G2 = [[] for _ in range(n+1)]\n",
    "  for u in range(n):\n",
    "    for v, w in G[u]:\n",
    "      G2[u].append((v, w))\n",
    "  G2[n].append((0, 0))\n",
    "  dist, p = bellman_ford(n)\n",
    "  if dist[n] != float('inf'):\n",
    "    return None\n",
    "  for u in range(n):\n",
    "    for v, w in G[u]:\n",
    "      G[u][v] = w + dist[u] - dist[v]\n",
    "  dist = [[float('inf')] * n for _ in range(n)]\n",
    "  for i in range(n):\n",
    "    dist[i][i] = 0\n",
    "  for u in range(n):\n",
    "    for v, w in G[u]:\n",
    "      dist[u][v] = w\n",
    "  for k in range(n):\n",
    "    for i in range(n):\n",
    "      for j in range(n):\n",
    "        dist[i][j] = min(dist[i][j], dist[i][k] + dist[k][j])\n",
    "  for i in range(n):\n",
    "    for j in range(n):\n",
    "      dist[i][j] -= dist[i][n] - dist[n][j]\n",
    "  return dist"
   ]
  }
 ],
 "metadata": {
  "kernelspec": {
   "display_name": "torch-gpu",
   "language": "python",
   "name": "python3"
  },
  "language_info": {
   "codemirror_mode": {
    "name": "ipython",
    "version": 3
   },
   "file_extension": ".py",
   "mimetype": "text/x-python",
   "name": "python",
   "nbconvert_exporter": "python",
   "pygments_lexer": "ipython3",
   "version": "3.10.8"
  },
  "orig_nbformat": 4,
  "vscode": {
   "interpreter": {
    "hash": "ccbe12180f9ff9f1a7243dff9afd742830dd6424ec4a1e2ead2be6017c6839ec"
   }
  }
 },
 "nbformat": 4,
 "nbformat_minor": 2
}
